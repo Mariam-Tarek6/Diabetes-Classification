{
  "nbformat": 4,
  "nbformat_minor": 0,
  "metadata": {
    "colab": {
      "provenance": []
    },
    "kernelspec": {
      "name": "python3",
      "display_name": "Python 3"
    },
    "language_info": {
      "name": "python"
    }
  },
  "cells": [
    {
      "cell_type": "code",
      "execution_count": 15,
      "metadata": {
        "id": "JNvZSNe2LhUc"
      },
      "outputs": [],
      "source": [
        "import pandas as pd\n",
        "from sklearn.model_selection import train_test_split\n",
        "from sklearn.preprocessing import LabelEncoder\n",
        "from sklearn.tree import DecisionTreeClassifier\n",
        "from sklearn.svm import SVC\n",
        "from sklearn.neural_network import MLPClassifier\n",
        "from sklearn.naive_bayes import GaussianNB\n",
        "from sklearn.metrics import precision_score\n",
        "from sklearn.ensemble import RandomForestClassifier, GradientBoostingClassifier\n",
        "from sklearn.neighbors import KNeighborsClassifier\n",
        "from sklearn.metrics import precision_score\n",
        "from xgboost import XGBClassifier\n",
        "from sklearn.metrics import precision_score"
      ]
    },
    {
      "cell_type": "code",
      "source": [
        "# Load the dataset using pandas\n",
        "file_path = \"/content/Diabetes Classification.csv\"\n",
        "diabetes = pd.read_csv(file_path)\n"
      ],
      "metadata": {
        "id": "PpL13MQqbFZT"
      },
      "execution_count": 5,
      "outputs": []
    },
    {
      "cell_type": "code",
      "source": [
        "\n",
        "numeric_columns = diabetes.select_dtypes(include=['int', 'float']).columns\n",
        "diabetes_numeric = diabetes[numeric_columns]\n",
        "\n",
        "label_encoder = LabelEncoder()\n",
        "for col in diabetes.columns:\n",
        "    if diabetes[col].dtype == 'object':\n",
        "        diabetes[col] = label_encoder.fit_transform(diabetes[col])\n"
      ],
      "metadata": {
        "id": "4V3VSNtobL9J"
      },
      "execution_count": 6,
      "outputs": []
    },
    {
      "cell_type": "code",
      "source": [
        "\n",
        "target_column_name = 'Diagnosis'\n",
        "\n",
        "# Separating features and target\n",
        "X = diabetes.drop(columns=[target_column_name])\n",
        "y = diabetes[target_column_name]\n",
        "\n",
        "# Split the training set into training and validation sets\n",
        "X_train, X_test, y_train, y_test = train_test_split(X, y, test_size=0.3, random_state=42)\n"
      ],
      "metadata": {
        "id": "i1SiR3CqLiG5"
      },
      "execution_count": 17,
      "outputs": []
    },
    {
      "cell_type": "code",
      "source": [
        "# train Decision Tree Classifier\n",
        "decision_tree = DecisionTreeClassifier()\n",
        "decision_tree.fit(X_train, y_train)\n",
        "\n",
        "y_predict = decision_tree.predict(X_test)\n",
        "\n",
        "precision = precision_score(y_test, y_predict, average='weighted')\n",
        "\n",
        "print(f\"Precision of Decision Tree: {precision}\")\n"
      ],
      "metadata": {
        "colab": {
          "base_uri": "https://localhost:8080/"
        },
        "id": "O_eGV_GZMATu",
        "outputId": "e34d2d8c-d3b3-4430-9f7d-da55c2e8a599"
      },
      "execution_count": 25,
      "outputs": [
        {
          "output_type": "stream",
          "name": "stdout",
          "text": [
            "Precision of Decision Tree: 0.956043956043956\n"
          ]
        }
      ]
    },
    {
      "cell_type": "code",
      "source": [
        "# Train a k-NN classifier\n",
        "knn_classifier = KNeighborsClassifier(n_neighbors=5)  # You can adjust the number of neighbors (n_neighbors) as needed\n",
        "knn_classifier.fit(X_train, y_train)\n",
        "\n",
        "# Predict using the trained model\n",
        "y_predict_knn = knn_classifier.predict(X_test)\n",
        "\n",
        "# Calculate precision\n",
        "precision_knn = precision_score(y_test, y_predict_knn, average='weighted')\n",
        "print(f\"Precision of k-NN: {precision_knn}\")"
      ],
      "metadata": {
        "colab": {
          "base_uri": "https://localhost:8080/"
        },
        "id": "7sZosA8VKpzH",
        "outputId": "65622aae-462b-4b00-a688-2818cd4ef97f"
      },
      "execution_count": 13,
      "outputs": [
        {
          "output_type": "stream",
          "name": "stdout",
          "text": [
            "Precision of k-NN: 0.5833333333333334\n"
          ]
        }
      ]
    },
    {
      "cell_type": "code",
      "source": [
        "#  train Neural Network Classifier\n",
        "nn_classifier = MLPClassifier()\n",
        "nn_classifier.fit(X_train, y_train)\n",
        "\n",
        "\n",
        "y_predict = nn_classifier.predict(X_test)\n",
        "\n",
        "precision = precision_score(y_test, y_predict, average='weighted')\n",
        "print(f\"Precision of Neural Network : {precision}\")\n"
      ],
      "metadata": {
        "id": "CRlJ2vShcZeh",
        "outputId": "af873ee7-7a06-4b47-efbb-e021a50b033a",
        "colab": {
          "base_uri": "https://localhost:8080/"
        }
      },
      "execution_count": 10,
      "outputs": [
        {
          "output_type": "stream",
          "name": "stdout",
          "text": [
            "Precision of Neural Network : 0.8498759305210917\n"
          ]
        },
        {
          "output_type": "stream",
          "name": "stderr",
          "text": [
            "/usr/local/lib/python3.10/dist-packages/sklearn/neural_network/_multilayer_perceptron.py:686: ConvergenceWarning: Stochastic Optimizer: Maximum iterations (200) reached and the optimization hasn't converged yet.\n",
            "  warnings.warn(\n"
          ]
        }
      ]
    },
    {
      "cell_type": "code",
      "source": [
        "#  train SVM Classifier\n",
        "svm_classifier = SVC()\n",
        "svm_classifier.fit(X_train, y_train)\n",
        "\n",
        "\n",
        "y_predict = svm_classifier.predict(X_test)\n",
        "\n",
        "precision = precision_score(y_test, y_predict, average='weighted')\n",
        "print(f\"Precision of SVM : {precision}\")\n"
      ],
      "metadata": {
        "colab": {
          "base_uri": "https://localhost:8080/"
        },
        "id": "aiDIUw0oMQtV",
        "outputId": "588e5888-63f1-4578-e6b3-9bb9b77e0ee6"
      },
      "execution_count": 9,
      "outputs": [
        {
          "output_type": "stream",
          "name": "stdout",
          "text": [
            "Precision of SVM : 0.47928994082840237\n"
          ]
        },
        {
          "output_type": "stream",
          "name": "stderr",
          "text": [
            "/usr/local/lib/python3.10/dist-packages/sklearn/metrics/_classification.py:1344: UndefinedMetricWarning: Precision is ill-defined and being set to 0.0 in labels with no predicted samples. Use `zero_division` parameter to control this behavior.\n",
            "  _warn_prf(average, modifier, msg_start, len(result))\n"
          ]
        }
      ]
    },
    {
      "cell_type": "code",
      "source": [
        "# Create and train the XGBoost classifier\n",
        "xgb_classifier = XGBClassifier()\n",
        "xgb_classifier.fit(X_train, y_train)\n",
        "\n",
        "# Predict using the trained XGBoost model\n",
        "y_predict_xgb = xgb_classifier.predict(X_test)\n",
        "\n",
        "# Calculate precision for XGBoost\n",
        "precision_xgb = precision_score(y_test, y_predict_xgb, average='weighted')\n",
        "print(f\"Precision of XGBoost: {precision_xgb}\")"
      ],
      "metadata": {
        "colab": {
          "base_uri": "https://localhost:8080/"
        },
        "id": "M3EkZ9pjOpNz",
        "outputId": "f4893efc-dab3-430e-c423-81652e774fc5"
      },
      "execution_count": 16,
      "outputs": [
        {
          "output_type": "stream",
          "name": "stdout",
          "text": [
            "Precision of XGBoost: 1.0\n"
          ]
        }
      ]
    },
    {
      "cell_type": "code",
      "source": [
        "#  train Naive Bayes Classifier\n",
        "naive_bayes = GaussianNB()\n",
        "naive_bayes.fit(X_train, y_train)\n",
        "\n",
        "y_predict = naive_bayes.predict(X_test)\n",
        "\n",
        "precision = precision_score(y_test, y_predict, average='weighted')\n",
        "print(f\"Precision of Naive Bayes : {precision}\")\n"
      ],
      "metadata": {
        "id": "4_hcp42ucYIH",
        "outputId": "ea621f9d-af18-4f05-a3a9-2ddcc1590c78",
        "colab": {
          "base_uri": "https://localhost:8080/"
        }
      },
      "execution_count": null,
      "outputs": [
        {
          "output_type": "stream",
          "name": "stdout",
          "text": [
            "Precision of Naive Bayes : 0.8528428093645485\n"
          ]
        }
      ]
    },
    {
      "cell_type": "code",
      "source": [
        "# train Random Forest Classifier\n",
        "random_forest = RandomForestClassifier()\n",
        "random_forest.fit(X_train, y_train)\n",
        "\n",
        "y_predict = random_forest.predict(X_test)\n",
        "\n",
        "precision = precision_score(y_test, y_predict, average='weighted')\n",
        "\n",
        "print(f\"Precision of Random Forest: {precision}\")\n"
      ],
      "metadata": {
        "id": "zS-4p9amAH39",
        "outputId": "7c3c84a0-c0db-40a4-f6b5-4db29f904e11",
        "colab": {
          "base_uri": "https://localhost:8080/"
        }
      },
      "execution_count": null,
      "outputs": [
        {
          "output_type": "stream",
          "name": "stdout",
          "text": [
            "Precision of Random Forest: 0.956043956043956\n"
          ]
        }
      ]
    },
    {
      "cell_type": "code",
      "source": [],
      "metadata": {
        "id": "cdO_jtVBFZa2"
      },
      "execution_count": null,
      "outputs": []
    }
  ]
}